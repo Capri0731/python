{
 "cells": [
  {
   "cell_type": "code",
   "execution_count": 3,
   "id": "7f55bf02",
   "metadata": {},
   "outputs": [
    {
     "name": "stdout",
     "output_type": "stream",
     "text": [
      "0\n",
      "1\n",
      "2\n",
      "3\n",
      "4\n",
      "5\n",
      "6\n",
      "7\n",
      "8\n",
      "9\n",
      "10\n"
     ]
    }
   ],
   "source": [
    "n=10\n",
    "def print_numbers_up_to():\n",
    "    for _ in range(n+1):\n",
    "        print(_)\n",
    "print_numbers_up_to()\n",
    "    "
   ]
  },
  {
   "cell_type": "code",
   "execution_count": 5,
   "id": "a8fc1e7e",
   "metadata": {},
   "outputs": [
    {
     "name": "stdout",
     "output_type": "stream",
     "text": [
      "5\n",
      "6\n",
      "7\n",
      "8\n"
     ]
    }
   ],
   "source": [
    "a=5\n",
    "b=8\n",
    "def print_numbers_between():\n",
    "    for _ in range(a, b+1):\n",
    "        print(_)\n",
    "print_numbers_between()"
   ]
  },
  {
   "cell_type": "code",
   "execution_count": 6,
   "id": "8e12562e",
   "metadata": {},
   "outputs": [
    {
     "name": "stdout",
     "output_type": "stream",
     "text": [
      "5\n",
      "6\n",
      "7\n",
      "8\n"
     ]
    }
   ],
   "source": [
    "a=5\n",
    "b=8\n",
    "def print_numbers_between():\n",
    "    for _ in range(a, b+1):\n",
    "        print(_)\n",
    "print_numbers_between()"
   ]
  },
  {
   "cell_type": "code",
   "execution_count": 36,
   "id": "96732734",
   "metadata": {},
   "outputs": [],
   "source": [
    "num = [2,3,5,7,11,13,17,19,23,29,31,3]\n",
    "names = ['Charles', 'Capri', 'Lucas', 'Tim', 'Yong', 'Justyna']\n",
    "\n",
    "\n",
    "    "
   ]
  },
  {
   "cell_type": "code",
   "execution_count": 37,
   "id": "db1711e4",
   "metadata": {},
   "outputs": [],
   "source": [
    "def print_list(any_lst):\n",
    "    for i in range(len(any_lst)):\n",
    "        print(any_lst[i])"
   ]
  },
  {
   "cell_type": "code",
   "execution_count": 38,
   "id": "1d009d6d",
   "metadata": {},
   "outputs": [
    {
     "name": "stdout",
     "output_type": "stream",
     "text": [
      "2\n",
      "3\n",
      "5\n",
      "7\n",
      "11\n",
      "13\n",
      "17\n",
      "19\n",
      "23\n",
      "29\n",
      "31\n",
      "3\n"
     ]
    }
   ],
   "source": [
    "print_list(num)"
   ]
  },
  {
   "cell_type": "code",
   "execution_count": 39,
   "id": "9fbdc0d3",
   "metadata": {},
   "outputs": [],
   "source": [
    "def print_element_in_list(any_list, element):\n",
    "    for i in range(len(any_list)):\n",
    "        if any_list[i]==element:\n",
    "            print(element)"
   ]
  },
  {
   "cell_type": "code",
   "execution_count": 40,
   "id": "87430ef9",
   "metadata": {},
   "outputs": [
    {
     "name": "stdout",
     "output_type": "stream",
     "text": [
      "3\n",
      "3\n"
     ]
    }
   ],
   "source": [
    "print_element_in_list(num, 3)"
   ]
  },
  {
   "cell_type": "code",
   "execution_count": 42,
   "id": "9a72f261",
   "metadata": {},
   "outputs": [],
   "source": [
    "from random import randint\n",
    "def roll_dic(sides):\n",
    "    x=randint(1, sides)\n",
    "    print(x)"
   ]
  },
  {
   "cell_type": "code",
   "execution_count": 48,
   "id": "eb38fde1",
   "metadata": {},
   "outputs": [
    {
     "name": "stdout",
     "output_type": "stream",
     "text": [
      "88\n"
     ]
    }
   ],
   "source": [
    "roll_dic(100)"
   ]
  },
  {
   "cell_type": "code",
   "execution_count": 52,
   "id": "01a67b38",
   "metadata": {},
   "outputs": [],
   "source": [
    "def is_in_list(any_lst, element):\n",
    "    for i in range(len(any_lst)):\n",
    "        if any_lst[i]==element:\n",
    "           return True\n",
    "    return False\n",
    "            "
   ]
  },
  {
   "cell_type": "code",
   "execution_count": 55,
   "id": "83537f4e",
   "metadata": {},
   "outputs": [
    {
     "data": {
      "text/plain": [
       "True"
      ]
     },
     "execution_count": 55,
     "metadata": {},
     "output_type": "execute_result"
    }
   ],
   "source": [
    "is_in_list(num, 19)"
   ]
  },
  {
   "cell_type": "code",
   "execution_count": null,
   "id": "b8fa5087",
   "metadata": {},
   "outputs": [],
   "source": []
  }
 ],
 "metadata": {
  "kernelspec": {
   "display_name": "Python 3",
   "language": "python",
   "name": "python3"
  },
  "language_info": {
   "codemirror_mode": {
    "name": "ipython",
    "version": 3
   },
   "file_extension": ".py",
   "mimetype": "text/x-python",
   "name": "python",
   "nbconvert_exporter": "python",
   "pygments_lexer": "ipython3",
   "version": "3.8.8"
  }
 },
 "nbformat": 4,
 "nbformat_minor": 5
}
